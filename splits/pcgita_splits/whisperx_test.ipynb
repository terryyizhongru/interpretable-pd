{
 "cells": [
  {
   "cell_type": "code",
   "execution_count": 7,
   "metadata": {},
   "outputs": [
    {
     "name": "stderr",
     "output_type": "stream",
     "text": [
      "Lightning automatically upgraded your loaded checkpoint from v1.5.4 to v2.5.0. To apply the upgrade to your files permanently, run `python -m pytorch_lightning.utilities.upgrade_checkpoint ../../../../../data/storage025/yzhongenv/lib/python3.10/site-packages/whisperx/assets/pytorch_model.bin`\n"
     ]
    },
    {
     "name": "stdout",
     "output_type": "stream",
     "text": [
      "No language specified, language will be first be detected for each audio file (increases inference time).\n",
      "Model was trained with pyannote.audio 0.0.1, yours is 3.3.2. Bad things might happen unless you revert pyannote.audio to 0.x.\n",
      "Model was trained with torch 1.10.0+cu102, yours is 2.4.0+cu121. Bad things might happen unless you revert torch to 1.x.\n"
     ]
    }
   ],
   "source": [
    "import whisperx\n",
    "import gc \n",
    "\n",
    "device = \"cuda\" \n",
    "batch_size = 8 # reduce if low on GPU mem\n",
    "compute_type = \"float16\" # change to \"int8\" if low on GPU mem (may reduce accuracy)\n",
    "\n",
    "# 1. Transcribe with original whisper (batched)\n",
    "model = whisperx.load_model(\"large-v3\", device, compute_type=compute_type)\n",
    "\n"
   ]
  },
  {
   "cell_type": "code",
   "execution_count": 12,
   "metadata": {},
   "outputs": [
    {
     "name": "stdout",
     "output_type": "stream",
     "text": [
      "[{'text': ' Cuando se rompió una pierna cuando iba en la moto.', 'start': 0.031, 'end': 1.837}]\n"
     ]
    }
   ],
   "source": [
    "\n",
    "# save model to local path (optional)\n",
    "# model_dir = \"/path/\"\n",
    "# model = whisperx.load_model(\"large-v2\", device, compute_type=compute_type, download_root=model_dir)\n",
    "\n",
    "audio_path = '/data/storage1t/PC-GITA/PC-GITA//sentences2/2_juan/non-normalized/pd/AVPEPUDEA0016_juan.wav'\n",
    "audio = whisperx.load_audio(audio_path)\n",
    "result = model.transcribe(audio, batch_size=batch_size, language='es')\n",
    "print(result[\"segments\"]) # before alignment\n",
    "\n",
    "# delete model if low on GPU resources\n",
    "# import gc; gc.collect(); torch.cuda.empty_cache(); del model\n"
   ]
  },
  {
   "cell_type": "code",
   "execution_count": 15,
   "metadata": {},
   "outputs": [
    {
     "name": "stdout",
     "output_type": "stream",
     "text": [
      "{'language': 'es', 'dictionary': {'-': 0, '|': 1, 'e': 2, 'a': 3, 'o': 4, 's': 5, 'n': 6, 'r': 7, 'i': 8, 'l': 9, 'd': 10, 'c': 11, 't': 12, 'u': 13, 'p': 14, 'm': 15, 'b': 16, 'q': 17, 'y': 18, 'g': 19, 'v': 20, 'h': 21, 'ó': 22, 'f': 23, 'í': 24, 'á': 25, 'j': 26, 'z': 27, 'ñ': 28, 'é': 29, 'x': 30, 'ú': 31, 'k': 32, 'w': 33, 'ü': 34}, 'type': 'torchaudio'}\n",
      "[{'start': 0.031, 'end': 1.673, 'text': 'Juan se rompió una pierna cuando iba en la moto.', 'words': [{'word': 'Juan', 'start': 0.031, 'end': 0.216, 'score': 0.181}, {'word': 'se', 'start': 0.257, 'end': 0.298, 'score': 0.19}, {'word': 'rompió', 'start': 0.318, 'end': 0.524, 'score': 0.313}, {'word': 'una', 'start': 0.544, 'end': 0.647, 'score': 0.15}, {'word': 'pierna', 'start': 0.667, 'end': 0.934, 'score': 0.306}, {'word': 'cuando', 'start': 0.975, 'end': 1.139, 'score': 0.22}, {'word': 'iba', 'start': 1.16, 'end': 1.221, 'score': 0.043}, {'word': 'en', 'start': 1.242, 'end': 1.303, 'score': 0.322}, {'word': 'la', 'start': 1.324, 'end': 1.406, 'score': 0.826}, {'word': 'moto.', 'start': 1.447, 'end': 1.673, 'score': 0.806}], 'chars': [{'char': 'J', 'start': 0.031, 'end': 0.052, 'score': 0.001}, {'char': 'u', 'start': 0.052, 'end': 0.113, 'score': 0.322}, {'char': 'a', 'start': 0.113, 'end': 0.195, 'score': 0.362}, {'char': 'n', 'start': 0.195, 'end': 0.216, 'score': 0.04}, {'char': ' ', 'start': 0.216, 'end': 0.257, 'score': 0.361}, {'char': 's', 'start': 0.257, 'end': 0.277, 'score': 0.023}, {'char': 'e', 'start': 0.277, 'end': 0.298, 'score': 0.358}, {'char': ' ', 'start': 0.298, 'end': 0.318, 'score': 0.481}, {'char': 'r', 'start': 0.318, 'end': 0.339, 'score': 0.299}, {'char': 'o', 'start': 0.339, 'end': 0.38, 'score': 0.234}, {'char': 'm', 'start': 0.38, 'end': 0.421, 'score': 0.134}, {'char': 'p', 'start': 0.421, 'end': 0.483, 'score': 0.263}, {'char': 'i', 'start': 0.483, 'end': 0.503, 'score': 0.933}, {'char': 'ó', 'start': 0.503, 'end': 0.524, 'score': 0.014}, {'char': ' ', 'start': 0.524, 'end': 0.544, 'score': 0.015}, {'char': 'u', 'start': 0.544, 'end': 0.565, 'score': 0.001}, {'char': 'n', 'start': 0.565, 'end': 0.585, 'score': 0.06}, {'char': 'a', 'start': 0.585, 'end': 0.647, 'score': 0.389}, {'char': ' ', 'start': 0.647, 'end': 0.667, 'score': 0.741}, {'char': 'p', 'start': 0.667, 'end': 0.708, 'score': 0.118}, {'char': 'i', 'start': 0.708, 'end': 0.729, 'score': 0.719}, {'char': 'e', 'start': 0.729, 'end': 0.749, 'score': 0.386}, {'char': 'r', 'start': 0.749, 'end': 0.79, 'score': 0.08}, {'char': 'n', 'start': 0.79, 'end': 0.893, 'score': 0.193}, {'char': 'a', 'start': 0.893, 'end': 0.934, 'score': 0.343}, {'char': ' ', 'start': 0.934, 'end': 0.975, 'score': 0.438}, {'char': 'c', 'start': 0.975, 'end': 0.996, 'score': 0.308}, {'char': 'u', 'start': 0.996, 'end': 1.016, 'score': 0.095}, {'char': 'a', 'start': 1.016, 'end': 1.037, 'score': 0.179}, {'char': 'n', 'start': 1.037, 'end': 1.078, 'score': 0.382}, {'char': 'd', 'start': 1.078, 'end': 1.119, 'score': 0.347}, {'char': 'o', 'start': 1.119, 'end': 1.139, 'score': 0.008}, {'char': ' ', 'start': 1.139, 'end': 1.16, 'score': 0.019}, {'char': 'i', 'start': 1.16, 'end': 1.18, 'score': 0.102}, {'char': 'b', 'start': 1.18, 'end': 1.201, 'score': 0.006}, {'char': 'a', 'start': 1.201, 'end': 1.221, 'score': 0.02}, {'char': ' ', 'start': 1.221, 'end': 1.242, 'score': 0.22}, {'char': 'e', 'start': 1.242, 'end': 1.283, 'score': 0.581}, {'char': 'n', 'start': 1.283, 'end': 1.303, 'score': 0.063}, {'char': ' ', 'start': 1.303, 'end': 1.324, 'score': 0.767}, {'char': 'l', 'start': 1.324, 'end': 1.344, 'score': 0.904}, {'char': 'a', 'start': 1.344, 'end': 1.406, 'score': 0.747}, {'char': ' ', 'start': 1.406, 'end': 1.447, 'score': 0.787}, {'char': 'm', 'start': 1.447, 'end': 1.509, 'score': 0.672}, {'char': 'o', 'start': 1.509, 'end': 1.611, 'score': 0.679}, {'char': 't', 'start': 1.611, 'end': 1.652, 'score': 0.949}, {'char': 'o', 'start': 1.652, 'end': 1.673, 'score': 0.922}, {'char': '.'}]}]\n",
      "{'segments': [{'start': 0.031, 'end': 1.673, 'text': 'Juan se rompió una pierna cuando iba en la moto.', 'words': [{'word': 'Juan', 'start': 0.031, 'end': 0.216, 'score': 0.181}, {'word': 'se', 'start': 0.257, 'end': 0.298, 'score': 0.19}, {'word': 'rompió', 'start': 0.318, 'end': 0.524, 'score': 0.313}, {'word': 'una', 'start': 0.544, 'end': 0.647, 'score': 0.15}, {'word': 'pierna', 'start': 0.667, 'end': 0.934, 'score': 0.306}, {'word': 'cuando', 'start': 0.975, 'end': 1.139, 'score': 0.22}, {'word': 'iba', 'start': 1.16, 'end': 1.221, 'score': 0.043}, {'word': 'en', 'start': 1.242, 'end': 1.303, 'score': 0.322}, {'word': 'la', 'start': 1.324, 'end': 1.406, 'score': 0.826}, {'word': 'moto.', 'start': 1.447, 'end': 1.673, 'score': 0.806}], 'chars': [{'char': 'J', 'start': 0.031, 'end': 0.052, 'score': 0.001}, {'char': 'u', 'start': 0.052, 'end': 0.113, 'score': 0.322}, {'char': 'a', 'start': 0.113, 'end': 0.195, 'score': 0.362}, {'char': 'n', 'start': 0.195, 'end': 0.216, 'score': 0.04}, {'char': ' ', 'start': 0.216, 'end': 0.257, 'score': 0.361}, {'char': 's', 'start': 0.257, 'end': 0.277, 'score': 0.023}, {'char': 'e', 'start': 0.277, 'end': 0.298, 'score': 0.358}, {'char': ' ', 'start': 0.298, 'end': 0.318, 'score': 0.481}, {'char': 'r', 'start': 0.318, 'end': 0.339, 'score': 0.299}, {'char': 'o', 'start': 0.339, 'end': 0.38, 'score': 0.234}, {'char': 'm', 'start': 0.38, 'end': 0.421, 'score': 0.134}, {'char': 'p', 'start': 0.421, 'end': 0.483, 'score': 0.263}, {'char': 'i', 'start': 0.483, 'end': 0.503, 'score': 0.933}, {'char': 'ó', 'start': 0.503, 'end': 0.524, 'score': 0.014}, {'char': ' ', 'start': 0.524, 'end': 0.544, 'score': 0.015}, {'char': 'u', 'start': 0.544, 'end': 0.565, 'score': 0.001}, {'char': 'n', 'start': 0.565, 'end': 0.585, 'score': 0.06}, {'char': 'a', 'start': 0.585, 'end': 0.647, 'score': 0.389}, {'char': ' ', 'start': 0.647, 'end': 0.667, 'score': 0.741}, {'char': 'p', 'start': 0.667, 'end': 0.708, 'score': 0.118}, {'char': 'i', 'start': 0.708, 'end': 0.729, 'score': 0.719}, {'char': 'e', 'start': 0.729, 'end': 0.749, 'score': 0.386}, {'char': 'r', 'start': 0.749, 'end': 0.79, 'score': 0.08}, {'char': 'n', 'start': 0.79, 'end': 0.893, 'score': 0.193}, {'char': 'a', 'start': 0.893, 'end': 0.934, 'score': 0.343}, {'char': ' ', 'start': 0.934, 'end': 0.975, 'score': 0.438}, {'char': 'c', 'start': 0.975, 'end': 0.996, 'score': 0.308}, {'char': 'u', 'start': 0.996, 'end': 1.016, 'score': 0.095}, {'char': 'a', 'start': 1.016, 'end': 1.037, 'score': 0.179}, {'char': 'n', 'start': 1.037, 'end': 1.078, 'score': 0.382}, {'char': 'd', 'start': 1.078, 'end': 1.119, 'score': 0.347}, {'char': 'o', 'start': 1.119, 'end': 1.139, 'score': 0.008}, {'char': ' ', 'start': 1.139, 'end': 1.16, 'score': 0.019}, {'char': 'i', 'start': 1.16, 'end': 1.18, 'score': 0.102}, {'char': 'b', 'start': 1.18, 'end': 1.201, 'score': 0.006}, {'char': 'a', 'start': 1.201, 'end': 1.221, 'score': 0.02}, {'char': ' ', 'start': 1.221, 'end': 1.242, 'score': 0.22}, {'char': 'e', 'start': 1.242, 'end': 1.283, 'score': 0.581}, {'char': 'n', 'start': 1.283, 'end': 1.303, 'score': 0.063}, {'char': ' ', 'start': 1.303, 'end': 1.324, 'score': 0.767}, {'char': 'l', 'start': 1.324, 'end': 1.344, 'score': 0.904}, {'char': 'a', 'start': 1.344, 'end': 1.406, 'score': 0.747}, {'char': ' ', 'start': 1.406, 'end': 1.447, 'score': 0.787}, {'char': 'm', 'start': 1.447, 'end': 1.509, 'score': 0.672}, {'char': 'o', 'start': 1.509, 'end': 1.611, 'score': 0.679}, {'char': 't', 'start': 1.611, 'end': 1.652, 'score': 0.949}, {'char': 'o', 'start': 1.652, 'end': 1.673, 'score': 0.922}, {'char': '.'}]}], 'word_segments': [{'word': 'Juan', 'start': 0.031, 'end': 0.216, 'score': 0.181}, {'word': 'se', 'start': 0.257, 'end': 0.298, 'score': 0.19}, {'word': 'rompió', 'start': 0.318, 'end': 0.524, 'score': 0.313}, {'word': 'una', 'start': 0.544, 'end': 0.647, 'score': 0.15}, {'word': 'pierna', 'start': 0.667, 'end': 0.934, 'score': 0.306}, {'word': 'cuando', 'start': 0.975, 'end': 1.139, 'score': 0.22}, {'word': 'iba', 'start': 1.16, 'end': 1.221, 'score': 0.043}, {'word': 'en', 'start': 1.242, 'end': 1.303, 'score': 0.322}, {'word': 'la', 'start': 1.324, 'end': 1.406, 'score': 0.826}, {'word': 'moto.', 'start': 1.447, 'end': 1.673, 'score': 0.806}]}\n"
     ]
    }
   ],
   "source": [
    "\n",
    "\n",
    "# 2. Align whisper output\n",
    "model_a, metadata = whisperx.load_align_model('es', device=device)\n",
    "print(metadata) # metadata contains the word timestamps\n",
    "gt_text = [{'text': 'Juan se rompió una pierna cuando iba en la moto.', 'start': 0.031, 'end': 1.837}]\n",
    "\n",
    "\n",
    "result = whisperx.align(gt_text, model_a, metadata, audio, device, return_char_alignments=True)\n",
    "\n",
    "# print(result[\"segments\"]) # after alignment\n",
    "\n",
    "print(result)"
   ]
  }
 ],
 "metadata": {
  "kernelspec": {
   "display_name": "yzhongenv",
   "language": "python",
   "name": "python3"
  },
  "language_info": {
   "codemirror_mode": {
    "name": "ipython",
    "version": 3
   },
   "file_extension": ".py",
   "mimetype": "text/x-python",
   "name": "python",
   "nbconvert_exporter": "python",
   "pygments_lexer": "ipython3",
   "version": "3.10.12"
  }
 },
 "nbformat": 4,
 "nbformat_minor": 2
}
